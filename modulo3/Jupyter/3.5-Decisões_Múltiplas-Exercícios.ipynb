{
 "cells": [
  {
   "cell_type": "markdown",
   "id": "559687a1",
   "metadata": {},
   "source": [
    "# Módulo 3 - Condicionais\n",
    "\n",
    "## 3.5 - Decisões Múltiplas"
   ]
  },
  {
   "cell_type": "markdown",
   "id": "42f823b3",
   "metadata": {},
   "source": [
    "### Q1.\n",
    "\n",
    "Vamos fazer uma calculadora! Escreva um programa que solicita 3 entradas: o primeiro operando (float), o operador (caracter) e o segundo operando (float). Seu programa deve imprimir o resultado da operação solicitada, entre soma (+), subtração (-), divisão (/), multiplicação (\\*) ou potência (\\*\\*). Seu programa também deve imprimir uma mensagem de erro se a operação solicitada não estiver dentre as opções disponíveis.\n",
    "\n",
    "Seguem alguns exemplos de interação com seu código no terminal. \n",
    "\n",
    "\n",
    "```\n",
    "Digite o primeiro operando: 5.2\n",
    "Digite o operador (+, -, /, *, **): *\n",
    "Digite o segundo operando` 3\n",
    "Resultado: 5.2 * 3.0 = 15.6\n",
    "```\n",
    "\n",
    "```\n",
    "Digite o primeiro operando: 8\n",
    "Digite o operador (+, -, /, *, **): **\n",
    "Digite o segundo operando: 2\n",
    "Resultado: 8.0 * 2.0 = 64.0\n",
    "```\n",
    "\n",
    "```\n",
    "Digite o primeiro operando: 7\n",
    "Digite o operador (+, -, /, *, **): %\n",
    "Digite o segundo operando: 3.4\n",
    "Erro! Operação inválida. \n",
    "```\n",
    "\n",
    "```\n",
    "Digite o primeiro operando: 10\n",
    "Digite o operador (+, -, /, *, **): /\n",
    "Digite o segundo operando: 2.5\n",
    "Resultado: 10.0 / 2.5 = 4.0\n",
    "```\n",
    "\n"
   ]
  },
  {
   "cell_type": "code",
   "execution_count": 11,
   "id": "c5b8cd4d",
   "metadata": {},
   "outputs": [
    {
     "name": "stdin",
     "output_type": "stream",
     "text": [
      "Digite o primeiro operando:  /\n"
     ]
    },
    {
     "name": "stdout",
     "output_type": "stream",
     "text": [
      "Entrada inválida. Digite um número (use ponto para decimais).\n"
     ]
    },
    {
     "name": "stdin",
     "output_type": "stream",
     "text": [
      "Digite o primeiro operando:  5\n",
      "Digite o operador (+, -, /, *, **):  8\n"
     ]
    },
    {
     "name": "stdout",
     "output_type": "stream",
     "text": [
      "Operador inválido! Use apenas +, -, /, * ou **.\n"
     ]
    },
    {
     "name": "stdin",
     "output_type": "stream",
     "text": [
      "Digite o operador (+, -, /, *, **):  **\n",
      "Digite o segundo operando:  /\n"
     ]
    },
    {
     "name": "stdout",
     "output_type": "stream",
     "text": [
      "Entrada inválida. Digite um número (use ponto para decimais).\n"
     ]
    },
    {
     "name": "stdin",
     "output_type": "stream",
     "text": [
      "Digite o segundo operando:  52\n"
     ]
    },
    {
     "name": "stdout",
     "output_type": "stream",
     "text": [
      "Resultado: 5.0 ** 52.0 = 2.220446049250313e+36\n"
     ]
    }
   ],
   "source": [
    "def ler_float(prompt: str) -> float:\n",
    "    \"\"\"Lê um número de ponto‑flutuante, repetindo até ser válido.\"\"\"\n",
    "    while True:\n",
    "        try:\n",
    "            return float(input(prompt))\n",
    "        except ValueError:\n",
    "            print(\"Entrada inválida. Digite um número (use ponto para decimais).\")\n",
    "\n",
    "\n",
    "def ler_operador(prompt: str) -> str:\n",
    "    \"\"\"Lê o operador matemático, repetindo até estar entre os aceitos.\"\"\"\n",
    "    operadores_validos = {\"+\", \"-\", \"/\", \"*\", \"**\"}\n",
    "    while True:\n",
    "        op = input(prompt).strip()\n",
    "        if op in operadores_validos:\n",
    "            return op\n",
    "        print(\"Operador inválido! Use apenas +, -, /, * ou **.\")\n",
    "\n",
    "\n",
    "def calcular(a: float, op: str, b: float) -> float:\n",
    "    \"\"\"Executa a operação já validada.\"\"\"\n",
    "    if op == \"+\":\n",
    "        return a + b\n",
    "    if op == \"-\":\n",
    "        return a - b\n",
    "    if op == \"*\":\n",
    "        return a * b\n",
    "    if op == \"/\":\n",
    "        return a / b          # b nunca será zero aqui\n",
    "    if op == \"**\":\n",
    "        return a ** b\n",
    "\n",
    "\n",
    "def main():\n",
    "    primeiro = ler_float(\"Digite o primeiro operando: \")\n",
    "    operador = ler_operador(\"Digite o operador (+, -, /, *, **): \")\n",
    "    segundo = ler_float(\"Digite o segundo operando: \")\n",
    "\n",
    "    # Impede divisão por zero pedindo novo valor\n",
    "    while operador == \"/\" and segundo == 0:\n",
    "        print(\"Erro! Divisão por zero não é permitida.\")\n",
    "        segundo = ler_float(\"Digite um valor diferente de 0 para o segundo operando: \")\n",
    "\n",
    "    resultado = calcular(primeiro, operador, segundo)\n",
    "    print(f\"Resultado: {primeiro} {operador} {segundo} = {resultado}\")\n",
    "\n",
    "\n",
    "if __name__ == \"__main__\":\n",
    "    main()\n"
   ]
  },
  {
   "cell_type": "markdown",
   "id": "d135df39",
   "metadata": {},
   "source": [
    "### Q2.\n",
    "\n",
    "Escreva um programa que leia os comprimentos dos 3 lados de um triângulo e diga se o triângulo é equilátero, isóceles ou escaleno. Regras:\n",
    "- Isóceles: Quaisquer dois lados com o mesmo comprimento\n",
    "- Equilátero: Os três lados tem o mesmo comprimento\n",
    "- Escaleno: Três lados de comprimento diferente \n",
    "\n",
    "Note que a ordem das condições importa! Seguem alguns exemplos de interação com seu código no terminal. \n",
    "\n",
    "```\n",
    "Digite o comprimento do lado 1: 4\n",
    "Digite o comprimento do lado 2: 4\n",
    "Digite o comprimento do lado 3: 6\n",
    "Triângulo: Isóceles\n",
    "```\n",
    "\n",
    "```\n",
    "Digite o comprimento do lado 1: 5\n",
    "Digite o comprimento do lado 2: 5\n",
    "Digite o comprimento do lado 3: 5\n",
    "Triângulo: Equilátero\n",
    "```\n",
    "\n",
    "```\n",
    "Digite o comprimento do lado 1: 7\n",
    "Digite o comprimento do lado 2: 4\n",
    "Digite o comprimento do lado 3: 9\n",
    "Triângulo: Escaleno\n",
    "```\n",
    "\n"
   ]
  },
  {
   "cell_type": "code",
   "execution_count": 18,
   "id": "cfcf9a80",
   "metadata": {},
   "outputs": [
    {
     "name": "stdin",
     "output_type": "stream",
     "text": [
      "Digite o comprimento do lado 1:  1\n",
      "Digite o comprimento do lado 2:  1\n",
      "Digite o comprimento do lado 3:  5\n"
     ]
    },
    {
     "name": "stdout",
     "output_type": "stream",
     "text": [
      "Triângulo: Isóceles\n"
     ]
    }
   ],
   "source": [
    "## Escreva e execute seu código aqui\n",
    "def main():\n",
    "    try:\n",
    "        # Leitura dos lados do triângulo\n",
    "        lado1 = float(input(\"Digite o comprimento do lado 1: \"))\n",
    "        lado2 = float(input(\"Digite o comprimento do lado 2: \"))\n",
    "        lado3 = float(input(\"Digite o comprimento do lado 3: \"))\n",
    "    except ValueError:\n",
    "        print(\"Erro! Todos os lados devem ser números válidos.\")\n",
    "        return\n",
    "\n",
    "    # Verificação do tipo de triângulo\n",
    "    if lado1 == lado2 == lado3:\n",
    "        tipo = \"Equilátero\"\n",
    "    elif lado1 == lado2 or lado1 == lado3 or lado2 == lado3:\n",
    "        tipo = \"Isóceles\"\n",
    "    else:\n",
    "        tipo = \"Escaleno\"\n",
    "\n",
    "    print(f\"Triângulo: {tipo}\")\n",
    "\n",
    "\n",
    "if __name__ == \"__main__\":\n",
    "    main()\n"
   ]
  },
  {
   "cell_type": "markdown",
   "id": "ed3405fb",
   "metadata": {},
   "source": [
    "### Q3.\n",
    "\n",
    "Você está desenvolvendo um sistema de avaliação de desempenho para um jogo. Escreva um programa em Python que avalia a pontuação do jogador em uma missão e atribui uma classificação com base nas seguintes condições:\n",
    "\n",
    "- Se a pontuação for menor que 70, atribua a classificação \"Insatisfatório\".\n",
    "- Se a pontuação for maior ou igual a 70, atribua a classificação \"Regular\".\n",
    "- Se a pontuação for maior ou igual a 80, atribua a classificação \"Bom\".\n",
    "- Se a pontuação for maior ou igual a 90, atribua a classificação \"Excelente\".\n",
    "\n",
    "Escreva um programa que solicita ao usuário a pontuação e imprime a classificação correspondente."
   ]
  },
  {
   "cell_type": "code",
   "execution_count": 20,
   "id": "a7a842ae",
   "metadata": {},
   "outputs": [
    {
     "name": "stdin",
     "output_type": "stream",
     "text": [
      "Digite a pontuação do jogador:  10\n"
     ]
    },
    {
     "name": "stdout",
     "output_type": "stream",
     "text": [
      "Classificação: Insatisfatório\n"
     ]
    }
   ],
   "source": [
    "## Escreva e execute seu código aqui\n",
    "def main():\n",
    "    try:\n",
    "        # Solicita a pontuação do jogador\n",
    "        pontuacao = float(input(\"Digite a pontuação do jogador: \"))\n",
    "    except ValueError:\n",
    "        print(\"Erro! Digite um número válido para a pontuação.\")\n",
    "        return\n",
    "\n",
    "    # Avalia a classificação com base nas faixas definidas\n",
    "    if pontuacao >= 90:\n",
    "        classificacao = \"Excelente\"\n",
    "    elif pontuacao >= 80:\n",
    "        classificacao = \"Bom\"\n",
    "    elif pontuacao >= 70:\n",
    "        classificacao = \"Regular\"\n",
    "    else:\n",
    "        classificacao = \"Insatisfatório\"\n",
    "\n",
    "    # Imprime o resultado\n",
    "    print(f\"Classificação: {classificacao}\")\n",
    "\n",
    "\n",
    "if __name__ == \"__main__\":\n",
    "    main()\n",
    "\n"
   ]
  },
  {
   "cell_type": "markdown",
   "id": "6cafaa50",
   "metadata": {},
   "source": [
    "### Q4.\n",
    "\n",
    "Você está implementando um sistema de desconto em uma loja online. Escreva um programa em Python que calcula o desconto com base no valor total da compra e atribui diferentes níveis de desconto de acordo com as seguintes condições:\n",
    "\n",
    "- Se o valor total da compra for menor que R\\$ 50, não há desconto.\n",
    "- Se o valor total da compra for maior ou igual a R\\$ 50, atribua um desconto de 10%.\n",
    "- Se o valor total da compra for maior ou igual a R\\$ 100, atribua um desconto de 20%.\n",
    "\n",
    "\n",
    "Seguem alguns exemplos de interação com seu código no terminal. Preste atenção na formatação esperada para as saídas.\n",
    "\n",
    "```\n",
    "Digite o valor total da compra: 120\n",
    "Desconto aplicado: 20.0%\n",
    "Valor final com desconto: R$96.00\n",
    "```\n",
    "\n",
    "```\n",
    "Digite o valor total da compra: 65\n",
    "Desconto aplicado: 10.0%\n",
    "Valor final com desconto: R$58.50\n",
    "```\n",
    "\n",
    "```\n",
    "Digite o valor total da compra: 40\n",
    "Desconto aplicado: 0.0%\n",
    "Valor final com desconto: R$40.00\n",
    "```\n",
    "\n",
    "\n"
   ]
  },
  {
   "cell_type": "code",
   "execution_count": 22,
   "id": "3b1b1929",
   "metadata": {},
   "outputs": [
    {
     "name": "stdin",
     "output_type": "stream",
     "text": [
      "Digite o valor total da compra:  100\n"
     ]
    },
    {
     "name": "stdout",
     "output_type": "stream",
     "text": [
      "Desconto aplicado: 20.0%\n",
      "Valor final com desconto: R$80.00\n"
     ]
    }
   ],
   "source": [
    "## Escreva e execute seu código aqui\n",
    "\n",
    "def main():\n",
    "    try:\n",
    "        # Solicita o valor total da compra\n",
    "        valor_total = float(input(\"Digite o valor total da compra: \"))\n",
    "    except ValueError:\n",
    "        print(\"Erro! Digite um número válido para o valor da compra.\")\n",
    "        return\n",
    "\n",
    "    # Determina o percentual de desconto com base no valor da compra\n",
    "    if valor_total >= 100:\n",
    "        desconto_percentual = 20.0\n",
    "    elif valor_total >= 50:\n",
    "        desconto_percentual = 10.0\n",
    "    else:\n",
    "        desconto_percentual = 0.0\n",
    "\n",
    "    # Calcula o valor final com desconto\n",
    "    valor_desconto = (desconto_percentual / 100) * valor_total\n",
    "    valor_final = valor_total - valor_desconto\n",
    "\n",
    "    # Exibe o resultado com a formatação esperada\n",
    "    print(f\"Desconto aplicado: {desconto_percentual:.1f}%\")\n",
    "    print(f\"Valor final com desconto: R${valor_final:.2f}\")\n",
    "\n",
    "\n",
    "if __name__ == \"__main__\":\n",
    "    main()\n"
   ]
  },
  {
   "cell_type": "markdown",
   "id": "dc5db6d7",
   "metadata": {},
   "source": [
    "### Q5.\n",
    "\n",
    "Crie um sistema de autenticação em Python. O sistema deve funcionar da\n",
    "seguinte maneira:\n",
    "\n",
    "1. Um banco de dados fictício deve ser implementado como um dicionário,\n",
    "onde a chave é o nome do usuário e o valor é uma tupla contendo a senha e\n",
    "o nível de acesso do usuário.\n",
    "\n",
    "2. O programa deve solicitar ao usuário que insira seu usuário e senha.\n",
    "\n",
    "3. O sistema deve:\n",
    "* Verificar se o login existe no banco de dados.\n",
    "* Comparar a senha fornecida com a armazenada no banco.\n",
    "* Caso as credenciais sejam válidas, exibir uma mensagem de sucesso e o nível de acesso do usuário.\n",
    "* Caso seja inválido deverá retornar mensagem: “Erro: Usuário ou\n",
    "senha inválidos.”\n",
    "* O programa deve rodar em um laço para permitir múltiplas\n",
    "tentativas de login, mas também permitir que o usuário opte por sair\n",
    "do programa.\n",
    "\n",
    "Atributos dos 3 usuários cadastrados no sistema (usuário, senha e nível)\n",
    "\n",
    "1) admin – admin123 – Administrador\n",
    "2) usuario1 – senha123 – Usuário Comum\n",
    "3) visitante1 – guest2024 – Visitante"
   ]
  },
  {
   "cell_type": "code",
   "execution_count": 34,
   "id": "b90304eb",
   "metadata": {},
   "outputs": [
    {
     "name": "stdout",
     "output_type": "stream",
     "text": [
      "\n",
      "=== Sistema de Autenticação ===\n",
      "1 - Fazer login\n",
      "2 - Sair\n"
     ]
    },
    {
     "name": "stdin",
     "output_type": "stream",
     "text": [
      "Escolha uma opção:  visitante1\n"
     ]
    },
    {
     "name": "stdout",
     "output_type": "stream",
     "text": [
      "Opção inválida. Escolha 1 ou 2.\n",
      "\n",
      "=== Sistema de Autenticação ===\n",
      "1 - Fazer login\n",
      "2 - Sair\n"
     ]
    },
    {
     "name": "stdin",
     "output_type": "stream",
     "text": [
      "Escolha uma opção:  1\n",
      "Usuário:  visitante1\n",
      "Senha:  guest2024\n"
     ]
    },
    {
     "name": "stdout",
     "output_type": "stream",
     "text": [
      "\n",
      "Login bem-sucedido! Nível de acesso: Visitante\n",
      "\n",
      "--- Menu Visitante ---\n",
      "1 - Ler poemas disponíveis\n",
      "2 - Deslogar\n",
      "\n"
     ]
    },
    {
     "name": "stdin",
     "output_type": "stream",
     "text": [
      "Escolha uma opção:  1\n"
     ]
    },
    {
     "name": "stdout",
     "output_type": "stream",
     "text": [
      "\n",
      "Poemas disponíveis:\n",
      "1 - Soneto da Esperança\n",
      "2 - No silêncio da noite\n",
      "3 - O mar e o vento\n"
     ]
    },
    {
     "name": "stdin",
     "output_type": "stream",
     "text": [
      "Escolha o poema para ler (ou 'sair' para cancelar):  1\n"
     ]
    },
    {
     "name": "stdout",
     "output_type": "stream",
     "text": [
      "\n",
      "--- Soneto da Esperança ---\n",
      "A esperança é a luz que nunca se apaga...\n",
      "-----------------------\n",
      "\n",
      "--- Menu Visitante ---\n",
      "1 - Ler poemas disponíveis\n",
      "2 - Deslogar\n",
      "\n"
     ]
    },
    {
     "name": "stdin",
     "output_type": "stream",
     "text": [
      "Escolha uma opção:  2\n"
     ]
    },
    {
     "name": "stdout",
     "output_type": "stream",
     "text": [
      "Deslogando...\n",
      "\n",
      "=== Sistema de Autenticação ===\n",
      "1 - Fazer login\n",
      "2 - Sair\n"
     ]
    },
    {
     "name": "stdin",
     "output_type": "stream",
     "text": [
      "Escolha uma opção:  usuario1\n"
     ]
    },
    {
     "name": "stdout",
     "output_type": "stream",
     "text": [
      "Opção inválida. Escolha 1 ou 2.\n",
      "\n",
      "=== Sistema de Autenticação ===\n",
      "1 - Fazer login\n",
      "2 - Sair\n"
     ]
    },
    {
     "name": "stdin",
     "output_type": "stream",
     "text": [
      "Escolha uma opção:  1\n",
      "Usuário:  usuario1\n",
      "Senha:  senha123\n"
     ]
    },
    {
     "name": "stdout",
     "output_type": "stream",
     "text": [
      "\n",
      "Login bem-sucedido! Nível de acesso: Usuário Comum\n",
      "\n",
      "--- Menu Usuário ---\n",
      "1 - Adicionar poema\n",
      "2 - Excluir poema\n",
      "3 - Ler poemas (função visitante)\n",
      "4 - Deslogar\n",
      "\n"
     ]
    },
    {
     "name": "stdin",
     "output_type": "stream",
     "text": [
      "Escolha uma opção:  1\n",
      "Digite o título do poema:  Teste\n",
      "Digite o texto do poema:  abcdefghijk\n"
     ]
    },
    {
     "name": "stdout",
     "output_type": "stream",
     "text": [
      "Poema 'Teste' adicionado com sucesso!\n",
      "\n",
      "--- Menu Usuário ---\n",
      "1 - Adicionar poema\n",
      "2 - Excluir poema\n",
      "3 - Ler poemas (função visitante)\n",
      "4 - Deslogar\n",
      "\n"
     ]
    },
    {
     "name": "stdin",
     "output_type": "stream",
     "text": [
      "Escolha uma opção:  3\n"
     ]
    },
    {
     "name": "stdout",
     "output_type": "stream",
     "text": [
      "\n",
      "Poemas disponíveis:\n",
      "1 - Soneto da Esperança\n",
      "2 - No silêncio da noite\n",
      "3 - O mar e o vento\n",
      "4 - Teste\n"
     ]
    },
    {
     "name": "stdin",
     "output_type": "stream",
     "text": [
      "Escolha o poema para ler (ou 'sair' para cancelar):  4\n"
     ]
    },
    {
     "name": "stdout",
     "output_type": "stream",
     "text": [
      "\n",
      "--- Teste ---\n",
      "abcdefghijk\n",
      "-----------------------\n",
      "\n",
      "--- Menu Usuário ---\n",
      "1 - Adicionar poema\n",
      "2 - Excluir poema\n",
      "3 - Ler poemas (função visitante)\n",
      "4 - Deslogar\n",
      "\n"
     ]
    },
    {
     "name": "stdin",
     "output_type": "stream",
     "text": [
      "Escolha uma opção:  4\n"
     ]
    },
    {
     "name": "stdout",
     "output_type": "stream",
     "text": [
      "Deslogando...\n",
      "\n",
      "=== Sistema de Autenticação ===\n",
      "1 - Fazer login\n",
      "2 - Sair\n"
     ]
    },
    {
     "name": "stdin",
     "output_type": "stream",
     "text": [
      "Escolha uma opção:  visitante1\n"
     ]
    },
    {
     "name": "stdout",
     "output_type": "stream",
     "text": [
      "Opção inválida. Escolha 1 ou 2.\n",
      "\n",
      "=== Sistema de Autenticação ===\n",
      "1 - Fazer login\n",
      "2 - Sair\n"
     ]
    },
    {
     "name": "stdin",
     "output_type": "stream",
     "text": [
      "Escolha uma opção:  1\n",
      "Usuário:  visitante1\n",
      "Senha:  guest2024\n"
     ]
    },
    {
     "name": "stdout",
     "output_type": "stream",
     "text": [
      "\n",
      "Login bem-sucedido! Nível de acesso: Visitante\n",
      "\n",
      "--- Menu Visitante ---\n",
      "1 - Ler poemas disponíveis\n",
      "2 - Deslogar\n",
      "\n"
     ]
    },
    {
     "name": "stdin",
     "output_type": "stream",
     "text": [
      "Escolha uma opção:  1\n"
     ]
    },
    {
     "name": "stdout",
     "output_type": "stream",
     "text": [
      "\n",
      "Poemas disponíveis:\n",
      "1 - Soneto da Esperança\n",
      "2 - No silêncio da noite\n",
      "3 - O mar e o vento\n",
      "4 - Teste\n"
     ]
    },
    {
     "name": "stdin",
     "output_type": "stream",
     "text": [
      "Escolha o poema para ler (ou 'sair' para cancelar):  4\n"
     ]
    },
    {
     "name": "stdout",
     "output_type": "stream",
     "text": [
      "\n",
      "--- Teste ---\n",
      "abcdefghijk\n",
      "-----------------------\n",
      "\n",
      "--- Menu Visitante ---\n",
      "1 - Ler poemas disponíveis\n",
      "2 - Deslogar\n",
      "\n"
     ]
    },
    {
     "name": "stdin",
     "output_type": "stream",
     "text": [
      "Escolha uma opção:  2\n"
     ]
    },
    {
     "name": "stdout",
     "output_type": "stream",
     "text": [
      "Deslogando...\n",
      "\n",
      "=== Sistema de Autenticação ===\n",
      "1 - Fazer login\n",
      "2 - Sair\n"
     ]
    },
    {
     "name": "stdin",
     "output_type": "stream",
     "text": [
      "Escolha uma opção:  2\n"
     ]
    },
    {
     "name": "stdout",
     "output_type": "stream",
     "text": [
      "Encerrando o programa. Até logo!\n"
     ]
    }
   ],
   "source": [
    "def menu_administrador():\n",
    "    print(\"\"\"\n",
    "--- Menu Administrador ---\n",
    "1 - Cadastrar novo usuário\n",
    "2 - Listar todos os usuários\n",
    "3 - Adicionar poema\n",
    "4 - Excluir poema\n",
    "5 - Ler poemas (função visitante)\n",
    "6 - Deslogar\n",
    "\"\"\")\n",
    "\n",
    "def menu_usuario():\n",
    "    print(\"\"\"\n",
    "--- Menu Usuário ---\n",
    "1 - Adicionar poema\n",
    "2 - Excluir poema\n",
    "3 - Ler poemas (função visitante)\n",
    "4 - Deslogar\n",
    "\"\"\")\n",
    "\n",
    "def menu_visitante():\n",
    "    print(\"\"\"\n",
    "--- Menu Visitante ---\n",
    "1 - Ler poemas disponíveis\n",
    "2 - Deslogar\n",
    "\"\"\")\n",
    "\n",
    "def escolher_nivel_acesso():\n",
    "    niveis = {\n",
    "        \"1\": \"Administrador\",\n",
    "        \"2\": \"Usuário Comum\",\n",
    "        \"3\": \"Visitante\"\n",
    "    }\n",
    "    while True:\n",
    "        print(\"Escolha o nível de acesso:\")\n",
    "        print(\"1 - Administrador\")\n",
    "        print(\"2 - Usuário Comum\")\n",
    "        print(\"3 - Visitante\")\n",
    "        escolha = input(\"Digite a opção: \").strip()\n",
    "        if escolha in niveis:\n",
    "            return niveis[escolha]\n",
    "        else:\n",
    "            print(\"Opção inválida. Tente novamente.\")\n",
    "\n",
    "def listar_usuarios(banco):\n",
    "    print(\"\\n--- Lista de Usuários ---\")\n",
    "    for usuario, (_, nivel) in banco.items():\n",
    "        print(f\"Usuário: {usuario} | Nível: {nivel}\")\n",
    "    print(\"-------------------------\")\n",
    "\n",
    "def adicionar_poema(poemas):\n",
    "    titulo = input(\"Digite o título do poema: \").strip()\n",
    "    texto = input(\"Digite o texto do poema: \").strip()\n",
    "    poemas.append({\"titulo\": titulo, \"texto\": texto})\n",
    "    print(f\"Poema '{titulo}' adicionado com sucesso!\")\n",
    "\n",
    "def excluir_poema(poemas):\n",
    "    if not poemas:\n",
    "        print(\"Nenhum poema cadastrado.\")\n",
    "        return\n",
    "    print(\"\\nPoemas disponíveis:\")\n",
    "    for i, poema in enumerate(poemas):\n",
    "        print(f\"{i + 1} - {poema['titulo']}\")\n",
    "    escolha = input(\"Digite o número do poema para excluir (ou 'sair' para cancelar): \").strip()\n",
    "    if escolha.lower() == \"sair\":\n",
    "        print(\"Operação cancelada.\")\n",
    "        return\n",
    "    if not escolha.isdigit() or not (1 <= int(escolha) <= len(poemas)):\n",
    "        print(\"Opção inválida.\")\n",
    "        return\n",
    "    poema_excluido = poemas.pop(int(escolha) - 1)\n",
    "    print(f\"Poema '{poema_excluido['titulo']}' excluído com sucesso!\")\n",
    "\n",
    "def ler_poemas(poemas):\n",
    "    if not poemas:\n",
    "        print(\"Nenhum poema disponível.\")\n",
    "        return\n",
    "    print(\"\\nPoemas disponíveis:\")\n",
    "    for i, poema in enumerate(poemas):\n",
    "        print(f\"{i + 1} - {poema['titulo']}\")\n",
    "    escolha = input(\"Escolha o poema para ler (ou 'sair' para cancelar): \").strip()\n",
    "    if escolha.lower() == \"sair\":\n",
    "        print(\"Operação cancelada.\")\n",
    "        return\n",
    "    if not escolha.isdigit() or not (1 <= int(escolha) <= len(poemas)):\n",
    "        print(\"Opção inválida.\")\n",
    "        return\n",
    "    poema = poemas[int(escolha) - 1]\n",
    "    print(f\"\\n--- {poema['titulo']} ---\")\n",
    "    print(poema[\"texto\"])\n",
    "    print(\"-----------------------\")\n",
    "\n",
    "def sistema():\n",
    "    banco_de_dados = {\n",
    "        \"admin\": (\"admin123\", \"Administrador\"),\n",
    "        \"usuario1\": (\"senha123\", \"Usuário Comum\"),\n",
    "        \"visitante1\": (\"guest2024\", \"Visitante\")\n",
    "    }\n",
    "\n",
    "    poemas = [\n",
    "        {\"titulo\": \"Soneto da Esperança\", \"texto\": \"A esperança é a luz que nunca se apaga...\"},\n",
    "        {\"titulo\": \"No silêncio da noite\", \"texto\": \"No silêncio da noite, as estrelas cantam...\"},\n",
    "        {\"titulo\": \"O mar e o vento\", \"texto\": \"O mar dança com o vento em eterno abraço...\"}\n",
    "    ]\n",
    "\n",
    "    while True:\n",
    "        print(\"\\n=== Sistema de Autenticação ===\")\n",
    "        print(\"1 - Fazer login\")\n",
    "        print(\"2 - Sair\")\n",
    "        opcao = input(\"Escolha uma opção: \").strip()\n",
    "\n",
    "        if opcao == \"2\":\n",
    "            print(\"Encerrando o programa. Até logo!\")\n",
    "            break\n",
    "        elif opcao == \"1\":\n",
    "            usuario = input(\"Usuário: \").strip()\n",
    "            if usuario.lower() == \"sair\":\n",
    "                print(\"Voltando ao menu principal...\")\n",
    "                continue\n",
    "\n",
    "            senha = input(\"Senha: \").strip()\n",
    "            if senha.lower() == \"sair\":\n",
    "                print(\"Voltando ao menu principal...\")\n",
    "                continue\n",
    "\n",
    "            if usuario in banco_de_dados:\n",
    "                senha_correta, nivel_acesso = banco_de_dados[usuario]\n",
    "                if senha == senha_correta:\n",
    "                    print(f\"\\nLogin bem-sucedido! Nível de acesso: {nivel_acesso}\")\n",
    "                    # Sessão logada\n",
    "                    while True:\n",
    "                        if nivel_acesso == \"Administrador\":\n",
    "                            menu_administrador()\n",
    "                            escolha = input(\"Escolha uma opção: \").strip()\n",
    "                            if escolha == \"1\":\n",
    "                                # Cadastrar novo usuário (só admin)\n",
    "                                novo_usuario = input(\"Nome do novo usuário (ou 'sair' para cancelar): \").strip()\n",
    "                                if novo_usuario.lower() == \"sair\":\n",
    "                                    print(\"Cadastro cancelado.\")\n",
    "                                    continue\n",
    "                                if novo_usuario in banco_de_dados:\n",
    "                                    print(\"Erro: Usuário já existe.\")\n",
    "                                    continue\n",
    "                                nova_senha = input(\"Senha do novo usuário (ou 'sair' para cancelar): \").strip()\n",
    "                                if nova_senha.lower() == \"sair\":\n",
    "                                    print(\"Cadastro cancelado.\")\n",
    "                                    continue\n",
    "                                novo_nivel = escolher_nivel_acesso()\n",
    "                                banco_de_dados[novo_usuario] = (nova_senha, novo_nivel)\n",
    "                                print(f\"Usuário '{novo_usuario}' cadastrado com sucesso!\")\n",
    "                            elif escolha == \"2\":\n",
    "                                listar_usuarios(banco_de_dados)\n",
    "                            elif escolha == \"3\":\n",
    "                                adicionar_poema(poemas)\n",
    "                            elif escolha == \"4\":\n",
    "                                excluir_poema(poemas)\n",
    "                            elif escolha == \"5\":\n",
    "                                ler_poemas(poemas)\n",
    "                            elif escolha == \"6\":\n",
    "                                print(\"Deslogando...\")\n",
    "                                break\n",
    "                            else:\n",
    "                                print(\"Opção inválida.\")\n",
    "                        elif nivel_acesso == \"Usuário Comum\":\n",
    "                            menu_usuario()\n",
    "                            escolha = input(\"Escolha uma opção: \").strip()\n",
    "                            if escolha == \"1\":\n",
    "                                adicionar_poema(poemas)\n",
    "                            elif escolha == \"2\":\n",
    "                                excluir_poema(poemas)\n",
    "                            elif escolha == \"3\":\n",
    "                                ler_poemas(poemas)\n",
    "                            elif escolha == \"4\":\n",
    "                                print(\"Deslogando...\")\n",
    "                                break\n",
    "                            else:\n",
    "                                print(\"Opção inválida.\")\n",
    "                        elif nivel_acesso == \"Visitante\":\n",
    "                            menu_visitante()\n",
    "                            escolha = input(\"Escolha uma opção: \").strip()\n",
    "                            if escolha == \"1\":\n",
    "                                ler_poemas(poemas)\n",
    "                            elif escolha == \"2\":\n",
    "                                print(\"Deslogando...\")\n",
    "                                break\n",
    "                            else:\n",
    "                                print(\"Opção inválida.\")\n",
    "                else:\n",
    "                    print(\"Erro: Usuário ou senha inválidos.\")\n",
    "            else:\n",
    "                print(\"Erro: Usuário ou senha inválidos.\")\n",
    "        else:\n",
    "            print(\"Opção inválida. Escolha 1 ou 2.\")\n",
    "\n",
    "if __name__ == \"__main__\":\n",
    "    sistema()\n"
   ]
  },
  {
   "cell_type": "code",
   "execution_count": null,
   "id": "c2fb1b34-d648-4b40-aa7a-22ea14ad8163",
   "metadata": {},
   "outputs": [],
   "source": []
  }
 ],
 "metadata": {
  "kernelspec": {
   "display_name": "Python [conda env:base] *",
   "language": "python",
   "name": "conda-base-py"
  },
  "language_info": {
   "codemirror_mode": {
    "name": "ipython",
    "version": 3
   },
   "file_extension": ".py",
   "mimetype": "text/x-python",
   "name": "python",
   "nbconvert_exporter": "python",
   "pygments_lexer": "ipython3",
   "version": "3.12.7"
  }
 },
 "nbformat": 4,
 "nbformat_minor": 5
}
